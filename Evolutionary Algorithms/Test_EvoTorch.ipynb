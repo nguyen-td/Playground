{
 "cells": [
  {
   "cell_type": "code",
   "execution_count": 19,
   "id": "740788fb-f162-49f6-8833-f2d3c0a53ec2",
   "metadata": {
    "tags": []
   },
   "outputs": [],
   "source": [
    "from evotorch import Problem\n",
    "from evotorch.algorithms import SNES\n",
    "from evotorch.logging import StdOutLogger, PandasLogger\n",
    "import torch\n",
    "import matplotlib.pyplot as plt\n",
    "plt.style.use('dark_background')"
   ]
  },
  {
   "cell_type": "code",
   "execution_count": 4,
   "id": "019eb53c-d462-4781-97c4-ea41217bea65",
   "metadata": {
    "tags": []
   },
   "outputs": [
    {
     "name": "stdout",
     "output_type": "stream",
     "text": [
      "[2023-07-10 16:08:45] INFO     <67615> evotorch.core: Instance of `Problem` (id:4848546640) -- The `dtype` for the problem's decision variables is set as torch.float32\n",
      "[2023-07-10 16:08:45] INFO     <67615> evotorch.core: Instance of `Problem` (id:4848546640) -- `eval_dtype` (the dtype of the fitnesses and evaluation data) is set as torch.float32\n",
      "[2023-07-10 16:08:45] INFO     <67615> evotorch.core: Instance of `Problem` (id:4848546640) -- The `device` of the problem is set as cpu\n",
      "[2023-07-10 16:08:45] INFO     <67615> evotorch.core: Instance of `Problem` (id:4848546640) -- The number of actors that will be allocated for parallelized evaluation is 0\n"
     ]
    }
   ],
   "source": [
    "# Create a Problem instance to solve\n",
    "def sphere(x: torch.Tensor) -> torch.Tensor:\n",
    "    return torch.sum(x.pow(2.0))\n",
    "\n",
    "problem = Problem(\"min\", sphere, solution_length=10, initial_bounds=(-1, 1))\n",
    "\n",
    "# Create a SearchAlgorithm instance to optimise the Problem instance\n",
    "searcher = SNES(problem, stdev_init=5)\n",
    "\n",
    "# Create loggers as desired\n",
    "# stdout_logger = StdOutLogger(searcher)  # Status printed to the stdout\n",
    "pandas_logger = PandasLogger(searcher)  # Status stored in a Pandas dataframe"
   ]
  },
  {
   "cell_type": "code",
   "execution_count": 5,
   "id": "3ebc2c87-30a6-4df1-b987-050cf4680236",
   "metadata": {
    "tags": []
   },
   "outputs": [],
   "source": [
    "# Evolve!\n",
    "searcher.run(100)"
   ]
  },
  {
   "cell_type": "code",
   "execution_count": 20,
   "id": "310abbfd-33d7-4816-af73-9f81884c4f27",
   "metadata": {
    "tags": []
   },
   "outputs": [
    {
     "data": {
      "text/plain": [
       "<Axes: xlabel='iter'>"
      ]
     },
     "execution_count": 20,
     "metadata": {},
     "output_type": "execute_result"
    },
    {
     "data": {
      "image/png": "[encoded data removed]",
      "text/plain": [
       "<Figure size 640x480 with 1 Axes>"
      ]
     },
     "metadata": {},
     "output_type": "display_data"
    }
   ],
   "source": [
    "# Process the information accumulated by the loggers.\n",
    "progress = pandas_logger.to_dataframe()\n",
    "progress.mean_eval.plot()  # Display a graph of the evolutionary progress by using the pandas data frame"
   ]
  },
  {
   "cell_type": "code",
   "execution_count": 7,
   "id": "56a99cff-e9c0-4e90-b64b-75e33ba780d4",
   "metadata": {
    "tags": []
   },
   "outputs": [
    {
     "data": {
      "text/plain": [
       "<Solution values=tensor([-0.0253,  0.0227,  0.0052,  0.0258,  0.0009,  0.0181,  0.0242,  0.0284,\n",
       "        -0.0040,  0.0049]), evals=tensor([0.0036])>"
      ]
     },
     "execution_count": 7,
     "metadata": {},
     "output_type": "execute_result"
    }
   ],
   "source": [
    "best_discovered_solution = searcher.status[\"best\"]\n",
    "best_discovered_solution"
   ]
  },
  {
   "cell_type": "code",
   "execution_count": 14,
   "id": "b167d051-7501-4064-aa26-f00bd18aafc9",
   "metadata": {
    "tags": []
   },
   "outputs": [
    {
     "name": "stdout",
     "output_type": "stream",
     "text": [
      "<Solution values=tensor([-0.0253,  0.0227,  0.0052,  0.0258,  0.0009,  0.0181,  0.0242,  0.0284,\n",
      "        -0.0040,  0.0049]), evals=tensor([0.0036])>\n"
     ]
    }
   ],
   "source": [
    "print(best_discovered_solution)"
   ]
  },
  {
   "cell_type": "code",
   "execution_count": 11,
   "id": "b75fe040-45ae-456c-91b8-2bbaa12b0523",
   "metadata": {
    "tags": []
   },
   "outputs": [
    {
     "name": "stdout",
     "output_type": "stream",
     "text": [
      "ReadOnlyTensor([-0.0236,  0.0155, -0.0038, -0.0128,  0.0143,  0.0037, -0.0357,\n",
      "                 0.0526,  0.0085,  0.0116])\n"
     ]
    }
   ],
   "source": [
    "print(searcher.status[\"center\"])"
   ]
  },
  {
   "cell_type": "code",
   "execution_count": null,
   "id": "135b705d-983e-441d-9e28-55a772cd4552",
   "metadata": {},
   "outputs": [],
   "source": []
  }
 ],
 "metadata": {
  "kernelspec": {
   "display_name": "Python 3 (ipykernel)",
   "language": "python",
   "name": "python3"
  },
  "language_info": {
   "codemirror_mode": {
    "name": "ipython",
    "version": 3
   },
   "file_extension": ".py",
   "mimetype": "text/x-python",
   "name": "python",
   "nbconvert_exporter": "python",
   "pygments_lexer": "ipython3",
   "version": "3.11.4"
  }
 },
 "nbformat": 4,
 "nbformat_minor": 5
}
